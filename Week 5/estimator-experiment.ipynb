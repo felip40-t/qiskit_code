{
 "cells": [
  {
   "cell_type": "code",
   "execution_count": 10,
   "metadata": {},
   "outputs": [
    {
     "name": "stdout",
     "output_type": "stream",
     "text": [
      ">>> Expectation values for PUB 0: 0.08333333333333333\n",
      ">>> Standard errors for PUB 0: 0.33205990027081356\n",
      ">>> Expectation values for PUB 1: -0.38235294117647056\n",
      ">>> Standard errors for PUB 1: 0.48639575633760457\n",
      ">>> Expectation values for PUB 2: 0.3541666666666667\n",
      ">>> Standard errors for PUB 2: 0.7774816130841108\n"
     ]
    }
   ],
   "source": [
    "import numpy as np\n",
    "from qiskit.circuit.library import IQP\n",
    "from qiskit.transpiler.preset_passmanagers import generate_preset_pass_manager\n",
    "from qiskit.quantum_info import SparsePauliOp, random_hermitian\n",
    "from qiskit_ibm_runtime import QiskitRuntimeService, EstimatorV2 as Estimator\n",
    " \n",
    "n_qubits = 75\n",
    " \n",
    "service = QiskitRuntimeService()\n",
    "backend = service.least_busy(operational=True, simulator=False, min_num_qubits=n_qubits)\n",
    " \n",
    "rng = np.random.default_rng()\n",
    "mats = [np.real(random_hermitian(n_qubits, seed=rng)) for _ in range(3)]\n",
    " \n",
    "pubs = []\n",
    "circuits = [IQP(mat) for mat in mats]\n",
    "observables = [\n",
    "    SparsePauliOp(\"Z\" * n_qubits),\n",
    "    SparsePauliOp(\"Z\" * n_qubits),\n",
    "    SparsePauliOp(\"Z\" * n_qubits),\n",
    "    SparsePauliOp(\"Z\" * n_qubits),\n",
    "    SparsePauliOp(\"Z\" * n_qubits),\n",
    "    SparsePauliOp(\"Z\" * n_qubits),\n",
    "]\n",
    " \n",
    "pm = generate_preset_pass_manager(backend=backend, optimization_level=1)\n",
    "\n",
    "for qc, obs in zip(circuits, observables):\n",
    "    isa_circuit = pm.run(qc)\n",
    "    isa_obs = obs.apply_layout(isa_circuit.layout)\n",
    "    pubs.append((isa_circuit, isa_obs))\n",
    " \n",
    "estimator = Estimator(backend)\n",
    "\n",
    "job = estimator.run(pubs)\n",
    "job_result = job.result()\n",
    "\n",
    "for idx in range(len(pubs)):\n",
    "    pub_result = job_result[idx]\n",
    "    print(f\">>> Expectation values for PUB {idx}: {pub_result.data.evs}\")\n",
    "    print(f\">>> Standard errors for PUB {idx}: {pub_result.data.stds}\")"
   ]
  },
  {
   "cell_type": "code",
   "execution_count": 9,
   "metadata": {},
   "outputs": [
    {
     "name": "stdout",
     "output_type": "stream",
     "text": [
      "Expectation values for pub 0: -0.2857142857142857\n",
      "Expectation values for pub 1: -0.01904296875\n",
      "Expectation values for pub 2: 0.18333333333333332\n"
     ]
    }
   ],
   "source": [
    "from qiskit_ibm_runtime import QiskitRuntimeService\n",
    "\n",
    "service = QiskitRuntimeService(\n",
    "    channel='ibm_quantum',\n",
    "    instance='ibm-q/open/main',\n",
    "    token='63daf9a7e4a8d389f25342b84a4592fe47bba144a477be3383a3f7759c1c32d6e80ba0e04899b0949b0ac9821c45ba35f29c704e9a090f7ba4a938b59ede3785'\n",
    ")\n",
    "job = service.job('ctn0rrb907y0008w8hrg')\n",
    "job_result = job.result()\n",
    "\n",
    "for idx, pub_result in enumerate(job_result):\n",
    "    print(f\"Expectation values for pub {idx}: {pub_result.data.evs}\")"
   ]
  }
 ],
 "metadata": {
  "kernelspec": {
   "display_name": "coding_with_qiskit",
   "language": "python",
   "name": "python3"
  },
  "language_info": {
   "codemirror_mode": {
    "name": "ipython",
    "version": 3
   },
   "file_extension": ".py",
   "mimetype": "text/x-python",
   "name": "python",
   "nbconvert_exporter": "python",
   "pygments_lexer": "ipython3",
   "version": "3.12.3"
  }
 },
 "nbformat": 4,
 "nbformat_minor": 2
}
